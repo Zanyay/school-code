{
  "nbformat": 4,
  "nbformat_minor": 0,
  "metadata": {
    "colab": {
      "provenance": [],
      "collapsed_sections": []
    },
    "kernelspec": {
      "name": "python3",
      "display_name": "Python 3"
    },
    "language_info": {
      "name": "python"
    }
  },
  "cells": [
    {
      "cell_type": "code",
      "source": [
        "#Course: ITI1120\n",
        "#Assignment 1\n",
        "#MacGillivray, Xander\n",
        "#Student Number: 300240446"
      ],
      "metadata": {
        "id": "Ix8B-mEbZ2-z"
      },
      "execution_count": null,
      "outputs": []
    },
    {
      "cell_type": "code",
      "execution_count": null,
      "metadata": {
        "id": "Df2amVYdU6V1",
        "colab": {
          "base_uri": "https://localhost:8080/"
        },
        "outputId": "26bfaf2f-a98a-497a-9531-698dcc74e603"
      },
      "outputs": [
        {
          "output_type": "stream",
          "name": "stdout",
          "text": [
            "please input a non-negative integer: 5\n",
            "1001.4636111111112\n"
          ]
        }
      ],
      "source": [
        "#question 1\n",
        "\n",
        "def series_sum():\n",
        "  '''takes a non-negative integer and returns the sum of the series'''\n",
        "    \n",
        "  n = int(input(\"please input a non-negative integer: \"))\n",
        "  if n == 0:\n",
        "      return 1000\n",
        "  #the check for n==0 is because you get an error for dividing by 0 otherwise\n",
        "    \n",
        "  elif n>0:\n",
        "    total = 0\n",
        "    for num in range(n):\n",
        "        num += 1\n",
        "        #this is to avoid starting from 0 and dividing by 0\n",
        "        subtotal = num*num\n",
        "        subtotal = 1/subtotal\n",
        "        total = total + subtotal\n",
        "    total += 1000\n",
        "    return total\n",
        "  else:\n",
        "    return None\n",
        "\n",
        "print(series_sum())\n"
      ]
    },
    {
      "cell_type": "code",
      "source": [
        "#question 2\n",
        "\n",
        "def encrypt(s):\n",
        "        '''str -> str\n",
        "encrypts a string by inverting it then spellinga new string from the outside inwards'''\n",
        "\n",
        "        s = s[::-1]\n",
        "        l = len(s)\n",
        "        l = int(l/2)\n",
        "        a = s[:l]\n",
        "        b = s[l:]\n",
        "        b = b[::-1]\n",
        "        message = ''\n",
        "        if len(s)==1:\n",
        "            return s\n",
        "        elif len(s)%2==0:\n",
        "            for i in range(l):\n",
        "                message += a[i]\n",
        "                message += b[i]\n",
        "        else:\n",
        "            for i in range(l):\n",
        "                message += a[i]\n",
        "                message += b[i]\n",
        "            message += s[l]\n",
        "        return  message\n",
        "\n",
        "#printing the function to test it\n",
        "print(encrypt(\"Hello, world\"))\n",
        "print(encrypt(\"1234\"))\n",
        "print(encrypt(\"12345\"))\n",
        "print(encrypt(\"1\"))\n",
        "print(encrypt(\"123\"))\n",
        "print(encrypt(\"12\"))\n",
        "print(encrypt(\"Secret Message\"))\n",
        "print(encrypt(\",'4'r\"))"
      ],
      "metadata": {
        "id": "a4GgTptHdhVk",
        "colab": {
          "base_uri": "https://localhost:8080/"
        },
        "outputId": "d704b203-8f21-4e31-ccba-a7d2213bfc7e"
      },
      "execution_count": null,
      "outputs": [
        {
          "output_type": "stream",
          "name": "stdout",
          "text": [
            "dHlerlolwo ,\n",
            "4132\n",
            "51423\n",
            "1\n",
            "312\n",
            "21\n",
            "eSgeacsrseetM \n",
            "r,''4\n"
          ]
        }
      ]
    },
    {
      "cell_type": "code",
      "source": [
        "#question 3\n",
        "\n",
        "def month_apart(m1,d1,m2,d2):\n",
        "    '''[int,int,int,int] -> boolean\n",
        "takes two dates (month and day) and determines if they're a month apart in boolean'''\n",
        "\n",
        "    if m1 < m2:\n",
        "        if (m1 + 1) != m2:\n",
        "            return True\n",
        "        elif d1 <= d2:\n",
        "            return True\n",
        "        else:\n",
        "            return False\n",
        "    elif m1 > m2:\n",
        "        if (m1 - 1) != m2:\n",
        "            return True\n",
        "        elif d1 >= d2:\n",
        "            return True\n",
        "        else:\n",
        "            return False\n",
        "    else:\n",
        "        return False\n",
        "\n",
        "#prints to test the function\n",
        "print(month_apart(6,14,9,21))\n",
        "print(month_apart(4,5,5,15))\n",
        "print(month_apart(4,15,5,15))\n",
        "print(month_apart(4,16,5,15))\n",
        "print(month_apart(6,14,6,8))\n",
        "print(month_apart(7,7,6,8))\n",
        "print(month_apart(7,8,6,8))\n",
        "print(month_apart(10,14,7,15))"
      ],
      "metadata": {
        "id": "lcIkZ6_wRxt2",
        "colab": {
          "base_uri": "https://localhost:8080/"
        },
        "outputId": "c175e281-50e5-4e56-af0f-a5d26fc7c049"
      },
      "execution_count": null,
      "outputs": [
        {
          "output_type": "stream",
          "name": "stdout",
          "text": [
            "True\n",
            "True\n",
            "True\n",
            "False\n",
            "False\n",
            "False\n",
            "True\n",
            "True\n"
          ]
        }
      ]
    },
    {
      "cell_type": "code",
      "source": [
        "#question 4\n",
        "\n",
        "def count_even_digits(a):\n",
        "    '''int -> int\n",
        "takes any number and will out put the amount of even digits'''\n",
        "\n",
        "    a = str(a)\n",
        "    c = 0\n",
        "    for i in a:\n",
        "        i = int(i)\n",
        "        if i == 0 or i==2 or i==4 or i==6 or i==8:\n",
        "            c = c+1\n",
        "    return c\n",
        "\n",
        "#printing function to test it\n",
        "print(count_even_digits(5))\n",
        "print(count_even_digits(1234567890))\n",
        "print(count_even_digits(7462876528))\n",
        "print(count_even_digits(2))"
      ],
      "metadata": {
        "id": "1KKug-NvZoY8",
        "colab": {
          "base_uri": "https://localhost:8080/"
        },
        "outputId": "ed1aa03d-8eee-4fac-bf7d-6ca987a62bfa"
      },
      "execution_count": null,
      "outputs": [
        {
          "output_type": "stream",
          "name": "stdout",
          "text": [
            "0\n",
            "5\n",
            "7\n",
            "1\n"
          ]
        }
      ]
    }
  ]
}