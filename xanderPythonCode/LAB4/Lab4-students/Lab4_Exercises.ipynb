{
  "nbformat": 4,
  "nbformat_minor": 0,
  "metadata": {
    "colab": {
      "name": "Exercises.ipynb",
      "provenance": [],
      "collapsed_sections": []
    },
    "kernelspec": {
      "name": "python3",
      "display_name": "Python 3"
    }
  },
  "cells": [
    {
      "cell_type": "markdown",
      "metadata": {
        "id": "IOfhLojxC2_Z"
      },
      "source": [
        "# Course: ITI1120 - F Winter 2021\r\n",
        " \r\n",
        "# LAB 4 - Exercises"
      ]
    },
    {
      "cell_type": "markdown",
      "metadata": {
        "id": "Y5TCW7QNfb0p"
      },
      "source": [
        "# Exercise 0"
      ]
    },
    {
      "cell_type": "markdown",
      "metadata": {
        "id": "-Sh8dcQoghy2"
      },
      "source": [
        "Repeat the exercise in the task 3 (version 2), where in addition you need to ask the user for their citizenship and if they are currently in prison convicted for a criminal offence. Your program should print a nice message telling the user if they are eligible to vote (i.e. if they are 18+, Canadian and do not live in prison convicted for a criminal offence, then they can vote. Otherwise not). You should modify function is_eligible so it takes to additional paramters as input. In particular the head of the function should be:  is_eligible(age, citizenship, prison)\n",
        "\n",
        "You should define your function in a cell and your I/O(input and output, user interactions) in another cell."
      ]
    },
    {
      "cell_type": "code",
      "metadata": {
        "id": "yUmGMHwBfr-X"
      },
      "source": [
        "# define your function here\n",
        "def is_eligible(age, citizenship, prison):\n",
        "     '''(int, str, str)->bool\n",
        "     Returns true if a person is eligible to vote, and false otherwise\n",
        "     '''\n",
        "     \n",
        " "
      ],
      "execution_count": null,
      "outputs": []
    },
    {
      "cell_type": "code",
      "metadata": {
        "id": "wuW1iEH4ftu9"
      },
      "source": [
        "# implement your I/O here\n"
      ],
      "execution_count": null,
      "outputs": []
    },
    {
      "cell_type": "markdown",
      "metadata": {
        "id": "A_2Ku5PIfhFa"
      },
      "source": [
        "# Exercise 1"
      ]
    },
    {
      "cell_type": "code",
      "metadata": {
        "id": "QbI3McXKg2-d"
      },
      "source": [
        "# define your function here\n",
        "def mess(phrase):\n",
        "     '''(str)->str\n",
        "     Returns the a copy of the given phrase where\n",
        "     each character that is one of the last  8 consonants\n",
        "     of English alphabet is capitalized\n",
        "     and where each space is replaced by a dash.\n",
        "     '''\n",
        "    \n",
        "# remember to run the following cell which contains the testcases. "
      ],
      "execution_count": null,
      "outputs": []
    },
    {
      "cell_type": "code",
      "metadata": {
        "id": "CQEIBrbhg9e1"
      },
      "source": [
        "# testcases\n",
        "print(mess('Random access memory  '))\n",
        "print(mess('central processing   unit.'))"
      ],
      "execution_count": null,
      "outputs": []
    },
    {
      "cell_type": "markdown",
      "metadata": {
        "id": "b1nW49mtfhKB"
      },
      "source": [
        "# Exercise 2"
      ]
    },
    {
      "cell_type": "code",
      "metadata": {
        "id": "2QSMzau4h5oe"
      },
      "source": [
        "def is_divisible(n,m):\n",
        "     '''(int, int)->bool\n",
        "     returns True if n is divisible by n, and False otherwise.'''\n",
        "     return n%m==0\n",
        "\n",
        "def is_divisible23n8(n):\n",
        "     '''(int)->bool\n",
        "     returns string \"yes\" if n is divisible by 2 or 3 but not 8, and \"no\" otherwise.'''\n",
        "     if ( (is_divisible(n,2) or is_divisible(n,3)) and not(is_divisible(n,8))):\n",
        "          return True\n",
        "     else:\n",
        "          return False\n"
      ],
      "execution_count": null,
      "outputs": []
    },
    {
      "cell_type": "code",
      "metadata": {
        "id": "yDey2ag4i1Sj"
      },
      "source": [
        "# define your function here\n",
        "def print_all_23n8(num):\n",
        "     "
      ],
      "execution_count": null,
      "outputs": []
    },
    {
      "cell_type": "code",
      "metadata": {
        "id": "UPiL0asPi3XN"
      },
      "source": [
        "# write your I/O here\n"
      ],
      "execution_count": null,
      "outputs": []
    },
    {
      "cell_type": "markdown",
      "metadata": {
        "id": "fRZGdIO1fhN2"
      },
      "source": [
        "# Exercise 3"
      ]
    },
    {
      "cell_type": "code",
      "metadata": {
        "id": "L7_4QeXEi9DL"
      },
      "source": [
        "# Your code goes here"
      ],
      "execution_count": null,
      "outputs": []
    },
    {
      "cell_type": "markdown",
      "metadata": {
        "id": "1FOIXl8EfhR4"
      },
      "source": [
        "# Exercise 4"
      ]
    },
    {
      "cell_type": "code",
      "metadata": {
        "id": "wCObeiUqjDBL"
      },
      "source": [
        "def prime(n):\n",
        "     '''(int)->bool\n",
        "     returns True if n is a prime, and False otherwise\n",
        "     Precondition: n is a positive integer'''\n",
        "     "
      ],
      "execution_count": null,
      "outputs": []
    },
    {
      "cell_type": "code",
      "metadata": {
        "id": "MEpF5j2PjGxT"
      },
      "source": [
        "def prime_v2(n):\n",
        "     '''(int)->bool\n",
        "     returns True if n is a prime, and False otherwise\n",
        "     Precondition: n is a positive integer'''\n",
        "     "
      ],
      "execution_count": null,
      "outputs": []
    },
    {
      "cell_type": "code",
      "metadata": {
        "id": "tHY13r6qjIXF"
      },
      "source": [
        "def divisors(n):\n",
        "     '''(int)->None\n",
        "     prints all the divisors of n\n",
        "     Precondition: n is a positive integer'''\n",
        "     "
      ],
      "execution_count": null,
      "outputs": []
    },
    {
      "cell_type": "code",
      "metadata": {
        "id": "F1NdMq9kjMEJ"
      },
      "source": [
        "# Write your I/O here\n",
        "# prompt for a number\n",
        "\n",
        "# divisors:\n",
        "\n",
        "# primality\n",
        "\n",
        "# all primies less than\n"
      ],
      "execution_count": null,
      "outputs": []
    }
  ]
}