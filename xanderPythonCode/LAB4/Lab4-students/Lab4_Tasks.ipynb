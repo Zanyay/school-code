{
  "nbformat": 4,
  "nbformat_minor": 0,
  "metadata": {
    "kernelspec": {
      "display_name": "Python 3",
      "language": "python",
      "name": "python3"
    },
    "language_info": {
      "codemirror_mode": {
        "name": "ipython",
        "version": 3
      },
      "file_extension": ".py",
      "mimetype": "text/x-python",
      "name": "python",
      "nbconvert_exporter": "python",
      "pygments_lexer": "ipython3",
      "version": "3.6.5"
    },
    "colab": {
      "name": "Tasks.ipynb",
      "provenance": [],
      "collapsed_sections": []
    }
  },
  "cells": [
    {
      "cell_type": "markdown",
      "metadata": {
        "id": "QUovX9xjChvG"
      },
      "source": [
        "# Course: ITI1120 - F Winter 2021\r\n",
        " \r\n",
        "# LAB 4 - Tasks"
      ]
    },
    {
      "cell_type": "markdown",
      "metadata": {
        "id": "6RLhxhikHKk3"
      },
      "source": [
        "# Task 0"
      ]
    },
    {
      "cell_type": "markdown",
      "metadata": {
        "id": "qqSHLi-rHKk5"
      },
      "source": [
        "Use variable s1, s2 and s3 (which is defined at the top of the following cell) to express the following HUMAN thoughts. "
      ]
    },
    {
      "cell_type": "code",
      "metadata": {
        "id": "Uj86-uWsHPOS"
      },
      "source": [
        "s1 = 'good'\n",
        "s2 = 'bad'\n",
        "s3 = 'sily'"
      ],
      "execution_count": null,
      "outputs": []
    },
    {
      "cell_type": "markdown",
      "metadata": {
        "id": "7COM_TMeHdj3"
      },
      "source": [
        "a) 'll' appears in s3\n"
      ]
    },
    {
      "cell_type": "code",
      "metadata": {
        "id": "AP_7cFabHx5v",
        "colab": {
          "base_uri": "https://localhost:8080/",
          "height": 34
        },
        "outputId": "d2809667-4b05-41f9-9ec5-ac7c80527c60"
      },
      "source": [
        ""
      ],
      "execution_count": null,
      "outputs": [
        {
          "output_type": "execute_result",
          "data": {
            "text/plain": [
              "False"
            ]
          },
          "metadata": {
            "tags": []
          },
          "execution_count": 2
        }
      ]
    },
    {
      "cell_type": "markdown",
      "metadata": {
        "id": "QlltdTjZHkET"
      },
      "source": [
        "b) the blank space does not appear in s1"
      ]
    },
    {
      "cell_type": "code",
      "metadata": {
        "id": "lUOOd1BqHyWz",
        "colab": {
          "base_uri": "https://localhost:8080/",
          "height": 34
        },
        "outputId": "c4843a83-a083-4f22-f6d4-b3ead71b2b5f"
      },
      "source": [
        ""
      ],
      "execution_count": null,
      "outputs": [
        {
          "output_type": "execute_result",
          "data": {
            "text/plain": [
              "True"
            ]
          },
          "metadata": {
            "tags": []
          },
          "execution_count": 3
        }
      ]
    },
    {
      "cell_type": "markdown",
      "metadata": {
        "id": "YRB8JizlHnbR"
      },
      "source": [
        "c) the concatenation of s1, s2, and s3"
      ]
    },
    {
      "cell_type": "code",
      "metadata": {
        "id": "qhZA6CrnHyyH",
        "colab": {
          "base_uri": "https://localhost:8080/",
          "height": 34
        },
        "outputId": "dd5ee165-a3a7-43e8-ed4b-916e7dac4cf4"
      },
      "source": [
        ""
      ],
      "execution_count": null,
      "outputs": [
        {
          "output_type": "execute_result",
          "data": {
            "text/plain": [
              "'goodbadsily'"
            ]
          },
          "metadata": {
            "tags": []
          },
          "execution_count": 4
        }
      ]
    },
    {
      "cell_type": "markdown",
      "metadata": {
        "id": "L0M5jG8NHqid"
      },
      "source": [
        "d) the blank space appears in the concatenation of s1, s2, and s3"
      ]
    },
    {
      "cell_type": "code",
      "metadata": {
        "id": "jcBWeSAQHz2U",
        "colab": {
          "base_uri": "https://localhost:8080/",
          "height": 34
        },
        "outputId": "d40cbefc-9434-4ee1-8183-b56203534d67"
      },
      "source": [
        ""
      ],
      "execution_count": null,
      "outputs": [
        {
          "output_type": "execute_result",
          "data": {
            "text/plain": [
              "False"
            ]
          },
          "metadata": {
            "tags": []
          },
          "execution_count": 5
        }
      ]
    },
    {
      "cell_type": "markdown",
      "metadata": {
        "id": "vSGf7Y0zHujr"
      },
      "source": [
        "e) the concatenation of 10 copies of s3"
      ]
    },
    {
      "cell_type": "code",
      "metadata": {
        "id": "Tibs9r63H0R3"
      },
      "source": [
        ""
      ],
      "execution_count": null,
      "outputs": []
    },
    {
      "cell_type": "markdown",
      "metadata": {
        "id": "2vTjTVTyHvyQ"
      },
      "source": [
        "f) the total number of characters in the concatenation of s1, s2, and s3"
      ]
    },
    {
      "cell_type": "code",
      "metadata": {
        "id": "tVCjsON8HjRV"
      },
      "source": [
        ""
      ],
      "execution_count": null,
      "outputs": []
    },
    {
      "cell_type": "markdown",
      "metadata": {
        "id": "iOTbdQ72IItT"
      },
      "source": [
        "# Task 1"
      ]
    },
    {
      "cell_type": "code",
      "metadata": {
        "id": "WwM7OqsqITwh"
      },
      "source": [
        "aha = 'abcdefgh'"
      ],
      "execution_count": null,
      "outputs": []
    },
    {
      "cell_type": "markdown",
      "metadata": {
        "id": "iHjw50i0Is_C"
      },
      "source": [
        "a) 'abcd'"
      ]
    },
    {
      "cell_type": "code",
      "metadata": {
        "id": "qY1LlxawIfCV",
        "colab": {
          "base_uri": "https://localhost:8080/",
          "height": 34
        },
        "outputId": "35716a0b-a64b-4476-9f5b-cf96d053b666"
      },
      "source": [
        ""
      ],
      "execution_count": null,
      "outputs": [
        {
          "output_type": "execute_result",
          "data": {
            "text/plain": [
              "'abcd'"
            ]
          },
          "metadata": {
            "tags": []
          },
          "execution_count": 7
        }
      ]
    },
    {
      "cell_type": "markdown",
      "metadata": {
        "id": "O41Dt8PtJBfp"
      },
      "source": [
        "b) 'def'"
      ]
    },
    {
      "cell_type": "code",
      "metadata": {
        "id": "NcJ0xCPoJNhr",
        "colab": {
          "base_uri": "https://localhost:8080/",
          "height": 34
        },
        "outputId": "2561a1e3-4d45-4f4f-a92d-f7d69b7c1c43"
      },
      "source": [
        ""
      ],
      "execution_count": null,
      "outputs": [
        {
          "output_type": "execute_result",
          "data": {
            "text/plain": [
              "'def'"
            ]
          },
          "metadata": {
            "tags": []
          },
          "execution_count": 9
        }
      ]
    },
    {
      "cell_type": "markdown",
      "metadata": {
        "id": "bWNE6Tg4JCnk"
      },
      "source": [
        "c) 'h'"
      ]
    },
    {
      "cell_type": "code",
      "metadata": {
        "id": "JWKpC8gwJN9B",
        "colab": {
          "base_uri": "https://localhost:8080/",
          "height": 34
        },
        "outputId": "0b241dd3-3fec-4baf-b276-e22795f08b06"
      },
      "source": [
        ""
      ],
      "execution_count": null,
      "outputs": [
        {
          "output_type": "execute_result",
          "data": {
            "text/plain": [
              "'h'"
            ]
          },
          "metadata": {
            "tags": []
          },
          "execution_count": 10
        }
      ]
    },
    {
      "cell_type": "markdown",
      "metadata": {
        "id": "zWRZshDqJExm"
      },
      "source": [
        "d) 'fg'"
      ]
    },
    {
      "cell_type": "code",
      "metadata": {
        "id": "WSVRcWhdJOY7",
        "colab": {
          "base_uri": "https://localhost:8080/",
          "height": 34
        },
        "outputId": "df8d6317-a589-48fc-bab7-d0f9736c2114"
      },
      "source": [
        ""
      ],
      "execution_count": null,
      "outputs": [
        {
          "output_type": "execute_result",
          "data": {
            "text/plain": [
              "'fg'"
            ]
          },
          "metadata": {
            "tags": []
          },
          "execution_count": 11
        }
      ]
    },
    {
      "cell_type": "markdown",
      "metadata": {
        "id": "nCZMHuvuJGU9"
      },
      "source": [
        "e) 'defgh'"
      ]
    },
    {
      "cell_type": "code",
      "metadata": {
        "id": "SkptDcZqJPsX",
        "colab": {
          "base_uri": "https://localhost:8080/",
          "height": 34
        },
        "outputId": "db80f787-8e98-4d41-aa0b-f7746b75698c"
      },
      "source": [
        ""
      ],
      "execution_count": null,
      "outputs": [
        {
          "output_type": "execute_result",
          "data": {
            "text/plain": [
              "'defg'"
            ]
          },
          "metadata": {
            "tags": []
          },
          "execution_count": 12
        }
      ]
    },
    {
      "cell_type": "markdown",
      "metadata": {
        "id": "KWfhP_THJIMV"
      },
      "source": [
        "f) 'fgh'"
      ]
    },
    {
      "cell_type": "code",
      "metadata": {
        "id": "zgLWWw_QJQOf",
        "colab": {
          "base_uri": "https://localhost:8080/",
          "height": 34
        },
        "outputId": "a3fe770f-5e67-4560-a62d-517ec3ede5f9"
      },
      "source": [
        ""
      ],
      "execution_count": null,
      "outputs": [
        {
          "output_type": "execute_result",
          "data": {
            "text/plain": [
              "'fgh'"
            ]
          },
          "metadata": {
            "tags": []
          },
          "execution_count": 13
        }
      ]
    },
    {
      "cell_type": "markdown",
      "metadata": {
        "id": "NGi08wv-JJxk"
      },
      "source": [
        "g) 'adg'"
      ]
    },
    {
      "cell_type": "code",
      "metadata": {
        "id": "p3R-VbKlJQx-",
        "colab": {
          "base_uri": "https://localhost:8080/",
          "height": 34
        },
        "outputId": "03660da5-71c4-4e4b-a785-8a2d42bf5f99"
      },
      "source": [
        ""
      ],
      "execution_count": null,
      "outputs": [
        {
          "output_type": "execute_result",
          "data": {
            "text/plain": [
              "'adg'"
            ]
          },
          "metadata": {
            "tags": []
          },
          "execution_count": 17
        }
      ]
    },
    {
      "cell_type": "markdown",
      "metadata": {
        "id": "aykNZeZyJLa9"
      },
      "source": [
        "h) 'be'"
      ]
    },
    {
      "cell_type": "code",
      "metadata": {
        "id": "PyFzFHNaJAfS",
        "colab": {
          "base_uri": "https://localhost:8080/",
          "height": 34
        },
        "outputId": "7e4e934e-42b8-4280-f367-3a3c72dccde4"
      },
      "source": [
        ""
      ],
      "execution_count": null,
      "outputs": [
        {
          "output_type": "execute_result",
          "data": {
            "text/plain": [
              "'be'"
            ]
          },
          "metadata": {
            "tags": []
          },
          "execution_count": 19
        }
      ]
    },
    {
      "cell_type": "markdown",
      "metadata": {
        "id": "DaDcbnCQKM4f"
      },
      "source": [
        "# Task 2"
      ]
    },
    {
      "cell_type": "code",
      "metadata": {
        "id": "pkrvoGonKLg4",
        "colab": {
          "base_uri": "https://localhost:8080/",
          "height": 54
        },
        "outputId": "4f01b18b-f033-431d-fb1c-461ff128312c"
      },
      "source": [
        "s = '''It was the best of times, it was the worst of times; \n",
        "it was the age of wisdom, it was the age of foolishness; \n",
        "it was the epoch of belief, it was the epoch of incredulity; \n",
        "it was ...'''"
      ],
      "execution_count": null,
      "outputs": [
        {
          "output_type": "execute_result",
          "data": {
            "text/plain": [
              "'It was the best of times, it was the worst of times; \\nit was the age of wisdom, it was the age of foolishness; \\nit was the epoch of belief, it was the epoch of incredulity; \\nit was ...'"
            ]
          },
          "metadata": {
            "tags": []
          },
          "execution_count": 23
        }
      ]
    },
    {
      "cell_type": "markdown",
      "metadata": {
        "id": "GKzUKIueKrVu"
      },
      "source": [
        "(a) Write a sequence of statements that produce a copy of s, named newS, in which characters ., ,, ;, and \\n have been replaced by blank spaces.\n"
      ]
    },
    {
      "cell_type": "code",
      "metadata": {
        "id": "BiyoBVi1Kqm2",
        "colab": {
          "base_uri": "https://localhost:8080/",
          "height": 54
        },
        "outputId": "796bd543-9342-473b-97ca-c37888249168"
      },
      "source": [
        ""
      ],
      "execution_count": null,
      "outputs": [
        {
          "output_type": "execute_result",
          "data": {
            "text/plain": [
              "'It was the best of times  it was the worst of times   it was the age of wisdom  it was the age of foolishness   it was the epoch of belief  it was the epoch of incredulity   it was    '"
            ]
          },
          "metadata": {
            "tags": []
          },
          "execution_count": 22
        }
      ]
    },
    {
      "cell_type": "markdown",
      "metadata": {
        "id": "v8_xE8IXK6GY"
      },
      "source": [
        "(b) Remove leading and trailing blank spaces in newS (and name the new string newS). "
      ]
    },
    {
      "cell_type": "code",
      "metadata": {
        "id": "ypaeBNlKLE4U",
        "colab": {
          "base_uri": "https://localhost:8080/",
          "height": 54
        },
        "outputId": "eb32a061-9dd4-416b-d52c-fb7d3abf4782"
      },
      "source": [
        ""
      ],
      "execution_count": null,
      "outputs": [
        {
          "output_type": "execute_result",
          "data": {
            "text/plain": [
              "'It was the best of times  it was the worst of times   it was the age of wisdom  it was the age of foolishness   it was the epoch of belief  it was the epoch of incredulity   it was'"
            ]
          },
          "metadata": {
            "tags": []
          },
          "execution_count": 25
        }
      ]
    },
    {
      "cell_type": "markdown",
      "metadata": {
        "id": "P29KT2sIK7Fl"
      },
      "source": [
        "(c) Make all the characters in newS lowercase (and name the new string newS). "
      ]
    },
    {
      "cell_type": "code",
      "metadata": {
        "id": "uH_ONZy0LSC-",
        "colab": {
          "base_uri": "https://localhost:8080/",
          "height": 54
        },
        "outputId": "832c55fa-e476-4c0e-f3ec-432ebed665e6"
      },
      "source": [
        ""
      ],
      "execution_count": null,
      "outputs": [
        {
          "output_type": "execute_result",
          "data": {
            "text/plain": [
              "'it was the best of times  it was the worst of times   it was the age of wisdom  it was the age of foolishness   it was the epoch of belief  it was the epoch of incredulity   it was'"
            ]
          },
          "metadata": {
            "tags": []
          },
          "execution_count": 26
        }
      ]
    },
    {
      "cell_type": "markdown",
      "metadata": {
        "id": "FbK4yFEqK8cq"
      },
      "source": [
        "(d) Compute the number of occurrences in newS of string 'it was'. "
      ]
    },
    {
      "cell_type": "code",
      "metadata": {
        "id": "gFjxjXYmLUuL",
        "colab": {
          "base_uri": "https://localhost:8080/",
          "height": 34
        },
        "outputId": "548eba4b-a539-4528-f9d9-1b3ac0131f06"
      },
      "source": [
        ""
      ],
      "execution_count": null,
      "outputs": [
        {
          "output_type": "execute_result",
          "data": {
            "text/plain": [
              "7"
            ]
          },
          "metadata": {
            "tags": []
          },
          "execution_count": 27
        }
      ]
    },
    {
      "cell_type": "markdown",
      "metadata": {
        "id": "u8JeEol4K99o"
      },
      "source": [
        "(e) Change every occurrence of was to is (and name the new string newS)."
      ]
    },
    {
      "cell_type": "code",
      "metadata": {
        "id": "mg-nyEIuLWTm",
        "colab": {
          "base_uri": "https://localhost:8080/",
          "height": 54
        },
        "outputId": "f6021b09-5259-4e49-b3ba-6b263c4ca062"
      },
      "source": [
        ""
      ],
      "execution_count": null,
      "outputs": [
        {
          "output_type": "execute_result",
          "data": {
            "text/plain": [
              "'it is the best of times  it is the worst of times   it is the age of wisdom  it is the age of foolishness   it is the epoch of belief  it is the epoch of incredulity   it is'"
            ]
          },
          "metadata": {
            "tags": []
          },
          "execution_count": 28
        }
      ]
    },
    {
      "cell_type": "markdown",
      "metadata": {
        "id": "agM9dmWzLn4o"
      },
      "source": [
        "# Task 3"
      ]
    },
    {
      "cell_type": "markdown",
      "metadata": {
        "id": "CFBiCqb-ThbB"
      },
      "source": [
        "Use python Visualizer (http://www.pythontutor.com/visualize.html#mode=edit) to run the following cells. \n",
        "\n",
        "Figure out why the variable squared_x is None"
      ]
    },
    {
      "cell_type": "code",
      "metadata": {
        "id": "uJqGa5rPLz3p"
      },
      "source": [
        "def square(x):    \n",
        "    y = x * x    \t\n",
        "    print(y)\n",
        "\n",
        "x = 10\n",
        "squared_x = square(x)\n",
        "print('square of x is:', squared_x)\n"
      ],
      "execution_count": null,
      "outputs": []
    },
    {
      "cell_type": "markdown",
      "metadata": {
        "id": "pB5BNwg5e5A7"
      },
      "source": [
        "The following two cells are the two version for the same purpose. \n",
        "\n",
        "Please compare them and determine when to use function-return block and when do not."
      ]
    },
    {
      "cell_type": "code",
      "metadata": {
        "id": "OUXjEUfZeu-_",
        "colab": {
          "base_uri": "https://localhost:8080/",
          "height": 527
        },
        "outputId": "e74be8c2-ceb6-451e-cefb-ceee32a74756"
      },
      "source": [
        "# version 1\n",
        "\n",
        "name=input(\"What is your name? \")\n",
        "age= int(input(\"How old are you? \"))\n",
        "\n",
        "if age<18:\n",
        "     print(name, \", you are\", age, \"years old, and thus underage and ineligible to vote\") \n",
        "else:\n",
        "     print(name, \", you are\", age, \"years old, and thus eligible to vote\")"
      ],
      "execution_count": null,
      "outputs": [
        {
          "output_type": "error",
          "ename": "KeyboardInterrupt",
          "evalue": "ignored",
          "traceback": [
            "\u001b[0;31m---------------------------------------------------------------------------\u001b[0m",
            "\u001b[0;31mKeyboardInterrupt\u001b[0m                         Traceback (most recent call last)",
            "\u001b[0;32m/usr/local/lib/python3.6/dist-packages/ipykernel/kernelbase.py\u001b[0m in \u001b[0;36m_input_request\u001b[0;34m(self, prompt, ident, parent, password)\u001b[0m\n\u001b[1;32m    729\u001b[0m             \u001b[0;32mtry\u001b[0m\u001b[0;34m:\u001b[0m\u001b[0;34m\u001b[0m\u001b[0;34m\u001b[0m\u001b[0m\n\u001b[0;32m--> 730\u001b[0;31m                 \u001b[0mident\u001b[0m\u001b[0;34m,\u001b[0m \u001b[0mreply\u001b[0m \u001b[0;34m=\u001b[0m \u001b[0mself\u001b[0m\u001b[0;34m.\u001b[0m\u001b[0msession\u001b[0m\u001b[0;34m.\u001b[0m\u001b[0mrecv\u001b[0m\u001b[0;34m(\u001b[0m\u001b[0mself\u001b[0m\u001b[0;34m.\u001b[0m\u001b[0mstdin_socket\u001b[0m\u001b[0;34m,\u001b[0m \u001b[0;36m0\u001b[0m\u001b[0;34m)\u001b[0m\u001b[0;34m\u001b[0m\u001b[0;34m\u001b[0m\u001b[0m\n\u001b[0m\u001b[1;32m    731\u001b[0m             \u001b[0;32mexcept\u001b[0m \u001b[0mException\u001b[0m\u001b[0;34m:\u001b[0m\u001b[0;34m\u001b[0m\u001b[0;34m\u001b[0m\u001b[0m\n",
            "\u001b[0;32m/usr/local/lib/python3.6/dist-packages/jupyter_client/session.py\u001b[0m in \u001b[0;36mrecv\u001b[0;34m(self, socket, mode, content, copy)\u001b[0m\n\u001b[1;32m    802\u001b[0m         \u001b[0;32mtry\u001b[0m\u001b[0;34m:\u001b[0m\u001b[0;34m\u001b[0m\u001b[0;34m\u001b[0m\u001b[0m\n\u001b[0;32m--> 803\u001b[0;31m             \u001b[0mmsg_list\u001b[0m \u001b[0;34m=\u001b[0m \u001b[0msocket\u001b[0m\u001b[0;34m.\u001b[0m\u001b[0mrecv_multipart\u001b[0m\u001b[0;34m(\u001b[0m\u001b[0mmode\u001b[0m\u001b[0;34m,\u001b[0m \u001b[0mcopy\u001b[0m\u001b[0;34m=\u001b[0m\u001b[0mcopy\u001b[0m\u001b[0;34m)\u001b[0m\u001b[0;34m\u001b[0m\u001b[0;34m\u001b[0m\u001b[0m\n\u001b[0m\u001b[1;32m    804\u001b[0m         \u001b[0;32mexcept\u001b[0m \u001b[0mzmq\u001b[0m\u001b[0;34m.\u001b[0m\u001b[0mZMQError\u001b[0m \u001b[0;32mas\u001b[0m \u001b[0me\u001b[0m\u001b[0;34m:\u001b[0m\u001b[0;34m\u001b[0m\u001b[0;34m\u001b[0m\u001b[0m\n",
            "\u001b[0;32m/usr/local/lib/python3.6/dist-packages/zmq/sugar/socket.py\u001b[0m in \u001b[0;36mrecv_multipart\u001b[0;34m(self, flags, copy, track)\u001b[0m\n\u001b[1;32m    465\u001b[0m         \"\"\"\n\u001b[0;32m--> 466\u001b[0;31m         \u001b[0mparts\u001b[0m \u001b[0;34m=\u001b[0m \u001b[0;34m[\u001b[0m\u001b[0mself\u001b[0m\u001b[0;34m.\u001b[0m\u001b[0mrecv\u001b[0m\u001b[0;34m(\u001b[0m\u001b[0mflags\u001b[0m\u001b[0;34m,\u001b[0m \u001b[0mcopy\u001b[0m\u001b[0;34m=\u001b[0m\u001b[0mcopy\u001b[0m\u001b[0;34m,\u001b[0m \u001b[0mtrack\u001b[0m\u001b[0;34m=\u001b[0m\u001b[0mtrack\u001b[0m\u001b[0;34m)\u001b[0m\u001b[0;34m]\u001b[0m\u001b[0;34m\u001b[0m\u001b[0;34m\u001b[0m\u001b[0m\n\u001b[0m\u001b[1;32m    467\u001b[0m         \u001b[0;31m# have first part already, only loop while more to receive\u001b[0m\u001b[0;34m\u001b[0m\u001b[0;34m\u001b[0m\u001b[0;34m\u001b[0m\u001b[0m\n",
            "\u001b[0;32mzmq/backend/cython/socket.pyx\u001b[0m in \u001b[0;36mzmq.backend.cython.socket.Socket.recv\u001b[0;34m()\u001b[0m\n",
            "\u001b[0;32mzmq/backend/cython/socket.pyx\u001b[0m in \u001b[0;36mzmq.backend.cython.socket.Socket.recv\u001b[0;34m()\u001b[0m\n",
            "\u001b[0;32mzmq/backend/cython/socket.pyx\u001b[0m in \u001b[0;36mzmq.backend.cython.socket._recv_copy\u001b[0;34m()\u001b[0m\n",
            "\u001b[0;32m/usr/local/lib/python3.6/dist-packages/zmq/backend/cython/checkrc.pxd\u001b[0m in \u001b[0;36mzmq.backend.cython.checkrc._check_rc\u001b[0;34m()\u001b[0m\n",
            "\u001b[0;31mKeyboardInterrupt\u001b[0m: ",
            "\nDuring handling of the above exception, another exception occurred:\n",
            "\u001b[0;31mKeyboardInterrupt\u001b[0m                         Traceback (most recent call last)",
            "\u001b[0;32m<ipython-input-38-375a2fb1b4e2>\u001b[0m in \u001b[0;36m<module>\u001b[0;34m()\u001b[0m\n\u001b[1;32m      1\u001b[0m \u001b[0;34m\u001b[0m\u001b[0m\n\u001b[0;32m----> 2\u001b[0;31m \u001b[0mname\u001b[0m\u001b[0;34m=\u001b[0m\u001b[0minput\u001b[0m\u001b[0;34m(\u001b[0m\u001b[0;34m\"What is your name? \"\u001b[0m\u001b[0;34m)\u001b[0m\u001b[0;34m\u001b[0m\u001b[0;34m\u001b[0m\u001b[0m\n\u001b[0m\u001b[1;32m      3\u001b[0m \u001b[0mage\u001b[0m\u001b[0;34m=\u001b[0m \u001b[0mint\u001b[0m\u001b[0;34m(\u001b[0m\u001b[0minput\u001b[0m\u001b[0;34m(\u001b[0m\u001b[0;34m\"How old are you? \"\u001b[0m\u001b[0;34m)\u001b[0m\u001b[0;34m)\u001b[0m\u001b[0;34m\u001b[0m\u001b[0;34m\u001b[0m\u001b[0m\n\u001b[1;32m      4\u001b[0m \u001b[0;34m\u001b[0m\u001b[0m\n\u001b[1;32m      5\u001b[0m \u001b[0;32mif\u001b[0m \u001b[0mage\u001b[0m\u001b[0;34m<\u001b[0m\u001b[0;36m18\u001b[0m\u001b[0;34m:\u001b[0m\u001b[0;34m\u001b[0m\u001b[0;34m\u001b[0m\u001b[0m\n",
            "\u001b[0;32m/usr/local/lib/python3.6/dist-packages/ipykernel/kernelbase.py\u001b[0m in \u001b[0;36mraw_input\u001b[0;34m(self, prompt)\u001b[0m\n\u001b[1;32m    703\u001b[0m             \u001b[0mself\u001b[0m\u001b[0;34m.\u001b[0m\u001b[0m_parent_ident\u001b[0m\u001b[0;34m,\u001b[0m\u001b[0;34m\u001b[0m\u001b[0;34m\u001b[0m\u001b[0m\n\u001b[1;32m    704\u001b[0m             \u001b[0mself\u001b[0m\u001b[0;34m.\u001b[0m\u001b[0m_parent_header\u001b[0m\u001b[0;34m,\u001b[0m\u001b[0;34m\u001b[0m\u001b[0;34m\u001b[0m\u001b[0m\n\u001b[0;32m--> 705\u001b[0;31m             \u001b[0mpassword\u001b[0m\u001b[0;34m=\u001b[0m\u001b[0;32mFalse\u001b[0m\u001b[0;34m,\u001b[0m\u001b[0;34m\u001b[0m\u001b[0;34m\u001b[0m\u001b[0m\n\u001b[0m\u001b[1;32m    706\u001b[0m         )\n\u001b[1;32m    707\u001b[0m \u001b[0;34m\u001b[0m\u001b[0m\n",
            "\u001b[0;32m/usr/local/lib/python3.6/dist-packages/ipykernel/kernelbase.py\u001b[0m in \u001b[0;36m_input_request\u001b[0;34m(self, prompt, ident, parent, password)\u001b[0m\n\u001b[1;32m    733\u001b[0m             \u001b[0;32mexcept\u001b[0m \u001b[0mKeyboardInterrupt\u001b[0m\u001b[0;34m:\u001b[0m\u001b[0;34m\u001b[0m\u001b[0;34m\u001b[0m\u001b[0m\n\u001b[1;32m    734\u001b[0m                 \u001b[0;31m# re-raise KeyboardInterrupt, to truncate traceback\u001b[0m\u001b[0;34m\u001b[0m\u001b[0;34m\u001b[0m\u001b[0;34m\u001b[0m\u001b[0m\n\u001b[0;32m--> 735\u001b[0;31m                 \u001b[0;32mraise\u001b[0m \u001b[0mKeyboardInterrupt\u001b[0m\u001b[0;34m\u001b[0m\u001b[0;34m\u001b[0m\u001b[0m\n\u001b[0m\u001b[1;32m    736\u001b[0m             \u001b[0;32melse\u001b[0m\u001b[0;34m:\u001b[0m\u001b[0;34m\u001b[0m\u001b[0;34m\u001b[0m\u001b[0m\n\u001b[1;32m    737\u001b[0m                 \u001b[0;32mbreak\u001b[0m\u001b[0;34m\u001b[0m\u001b[0;34m\u001b[0m\u001b[0m\n",
            "\u001b[0;31mKeyboardInterrupt\u001b[0m: "
          ]
        }
      ]
    },
    {
      "cell_type": "code",
      "metadata": {
        "id": "UUOEE4OIes2V"
      },
      "source": [
        "# version 2\n",
        "\n",
        "def is_eligible(age):\n",
        "     if age >=18:\n",
        "          return True\n",
        "     else:\n",
        "          return False\n",
        "     \n",
        "name=input(\"What is your name? \")\n",
        "age= int(input(\"How old are you? \"))\n",
        "\n",
        "if is_eligible(age):\n",
        "     print(name, \", you are eligible to vote\")\n",
        "else:\n",
        "     print(name, \", you are ineligible to vote\") \n",
        "    "
      ],
      "execution_count": null,
      "outputs": []
    },
    {
      "cell_type": "markdown",
      "metadata": {
        "id": "Zwp5bMCbLuAl"
      },
      "source": [
        "# Task 4"
      ]
    },
    {
      "cell_type": "code",
      "metadata": {
        "id": "nZjG889RT98e"
      },
      "source": [
        "def foo1(a, b):\n",
        "     '''type contract looks like this:\n",
        "          (number,number)->None'''\n",
        "     print(a+b)\n",
        "\n",
        "def foo2(a, b):\n",
        "     '''type contract looks like this:\n",
        "          (number,number)->number'''\n",
        "     return a+b\n",
        "\n",
        "def foo3(a,b):\n",
        "     ''' type contract looks like this:\n",
        "          (number,number)->number'''\n",
        "     print(\"Welcome to my silly function\")\n",
        "     print(\"First I will print a +b:\")\n",
        "     print(\"a+b=\", a+b)\n",
        "     print(\"Now I will also return that value\")\n",
        "     return a+b\n",
        "\n",
        "def foo4(a, b):\n",
        "     '''type contract looks like this:\n",
        "          (number,number)->None'''\n",
        "     print(a+b)\n",
        "     return"
      ],
      "execution_count": null,
      "outputs": []
    },
    {
      "cell_type": "code",
      "metadata": {
        "id": "gOhQ708CUJR3",
        "colab": {
          "base_uri": "https://localhost:8080/",
          "height": 34
        },
        "outputId": "b08071b4-9f22-4c44-8275-7716bd7f6306"
      },
      "source": [
        "foo1(5,5)"
      ],
      "execution_count": null,
      "outputs": [
        {
          "output_type": "stream",
          "text": [
            "10\n"
          ],
          "name": "stdout"
        }
      ]
    },
    {
      "cell_type": "code",
      "metadata": {
        "id": "z7fCMM88UWmZ"
      },
      "source": [
        "foo2(5,5)"
      ],
      "execution_count": null,
      "outputs": []
    },
    {
      "cell_type": "code",
      "metadata": {
        "id": "PhqhvH8QUaNN"
      },
      "source": [
        "x1=foo1(5,5)\n",
        "x2=foo2(5,5)\n",
        "x3=foo3(5,5)\n",
        "x4=foo4(5,5)\n",
        "print(\"x1=\", x1)\n",
        "print(\"type of x1 is \", type(x1))\n",
        "print(\"x2=\", x2)\n",
        "print(\"type of x2 is \", type(x2))\n",
        "print(\"x3=\", x3)\n",
        "print(\"type of x3 is \", type(x3))\n",
        "print(\"x4=\", x4)\n",
        "print(\"type of x4 is \", type(x4))"
      ],
      "execution_count": null,
      "outputs": []
    },
    {
      "cell_type": "code",
      "metadata": {
        "id": "P6QCnDIzUemf"
      },
      "source": [
        "num1=x2*x3\n",
        "print(\"x2*x3=\", num1)"
      ],
      "execution_count": null,
      "outputs": []
    },
    {
      "cell_type": "code",
      "metadata": {
        "id": "zT-fzcrlUf2R"
      },
      "source": [
        "num2=x1*x2\n",
        "print(\"x1*x2=\", num2)"
      ],
      "execution_count": null,
      "outputs": []
    },
    {
      "cell_type": "markdown",
      "metadata": {
        "id": "5F15ftMeLuHd"
      },
      "source": [
        "# Task 5"
      ]
    },
    {
      "cell_type": "markdown",
      "metadata": {
        "id": "QX77Ntb3dedB"
      },
      "source": [
        "Write a python expression (with loop) to produce the following outputs. "
      ]
    },
    {
      "cell_type": "markdown",
      "metadata": {
        "id": "oNa6gy3MLuNK"
      },
      "source": [
        "a) 0, 1, 2, 3, 4, 5, 6, 7, 8, 9, 10"
      ]
    },
    {
      "cell_type": "code",
      "metadata": {
        "id": "o5UYbq9zc41g"
      },
      "source": [
        ""
      ],
      "execution_count": null,
      "outputs": []
    },
    {
      "cell_type": "markdown",
      "metadata": {
        "id": "C720-ABtcxCI"
      },
      "source": [
        "b) 1, 2, 3, 4, 5, 6, 7, 8, 9"
      ]
    },
    {
      "cell_type": "code",
      "metadata": {
        "id": "60wMyr6Zc_hD"
      },
      "source": [
        ""
      ],
      "execution_count": null,
      "outputs": []
    },
    {
      "cell_type": "markdown",
      "metadata": {
        "id": "W8FrJJbEcx8O"
      },
      "source": [
        "c) 0, 2, 4, 6, 8"
      ]
    },
    {
      "cell_type": "code",
      "metadata": {
        "id": "n8BnswtddEhN",
        "colab": {
          "base_uri": "https://localhost:8080/",
          "height": 34
        },
        "outputId": "c3cec69b-a91a-495d-858e-f387f03efc74"
      },
      "source": [
        ""
      ],
      "execution_count": null,
      "outputs": [
        {
          "output_type": "stream",
          "text": [
            "0, 2, 4, 6, 8, "
          ],
          "name": "stdout"
        }
      ]
    },
    {
      "cell_type": "markdown",
      "metadata": {
        "id": "wXQKy3fuczGK"
      },
      "source": [
        "d) 1, 3, 5, 7, 9"
      ]
    },
    {
      "cell_type": "code",
      "metadata": {
        "id": "pQdegwf7dPY6",
        "colab": {
          "base_uri": "https://localhost:8080/",
          "height": 34
        },
        "outputId": "8dbc2bb9-f87f-49ba-8586-bf536e80c52f"
      },
      "source": [
        ""
      ],
      "execution_count": null,
      "outputs": [
        {
          "output_type": "stream",
          "text": [
            "0 2 4 6 8 "
          ],
          "name": "stdout"
        }
      ]
    },
    {
      "cell_type": "markdown",
      "metadata": {
        "id": "W2m5dUpRc0Im"
      },
      "source": [
        "e) 20, 30, 40, 50, 60"
      ]
    },
    {
      "cell_type": "code",
      "metadata": {
        "id": "WeGKQonbdUTE",
        "colab": {
          "base_uri": "https://localhost:8080/",
          "height": 34
        },
        "outputId": "95deeb57-a2a0-4224-dc5d-0d7bbf0909bf"
      },
      "source": [
        ""
      ],
      "execution_count": null,
      "outputs": [
        {
          "output_type": "stream",
          "text": [
            "20 30 40 50 60 "
          ],
          "name": "stdout"
        }
      ]
    },
    {
      "cell_type": "markdown",
      "metadata": {
        "id": "AVQMQ9V7c1HX"
      },
      "source": [
        "f) 10, 9, 8, 7, 6, 5, 4, 3, 2, 1"
      ]
    },
    {
      "cell_type": "code",
      "metadata": {
        "id": "hpiYOo8_Lrmh",
        "colab": {
          "base_uri": "https://localhost:8080/",
          "height": 34
        },
        "outputId": "7b7b270e-92e8-4f79-8e5c-7080b75179f0"
      },
      "source": [
        ""
      ],
      "execution_count": null,
      "outputs": [
        {
          "output_type": "stream",
          "text": [
            "10 9 8 7 6 5 4 3 2 1 "
          ],
          "name": "stdout"
        }
      ]
    },
    {
      "cell_type": "code",
      "metadata": {
        "id": "tKubJuDWdcku"
      },
      "source": [
        ""
      ],
      "execution_count": null,
      "outputs": []
    }
  ]
}