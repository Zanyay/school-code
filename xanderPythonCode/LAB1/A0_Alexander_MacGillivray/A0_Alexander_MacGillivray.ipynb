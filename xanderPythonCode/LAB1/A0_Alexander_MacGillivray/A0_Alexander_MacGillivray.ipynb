{
  "nbformat": 4,
  "nbformat_minor": 0,
  "metadata": {
    "colab": {
      "provenance": []
    },
    "kernelspec": {
      "name": "python3",
      "display_name": "Python 3"
    },
    "language_info": {
      "name": "python"
    }
  },
  "cells": [
    {
      "cell_type": "code",
      "execution_count": 4,
      "metadata": {
        "colab": {
          "base_uri": "https://localhost:8080/"
        },
        "id": "7D0GtE5ixnLa",
        "outputId": "fb7a141f-457e-4f68-b5c9-03fcdcde35f6"
      },
      "outputs": [
        {
          "output_type": "stream",
          "name": "stdout",
          "text": [
            "hello world!\n",
            "7\n",
            "9\n",
            "1024\n",
            "5.5\n",
            "15\n",
            "19.5\n"
          ]
        }
      ],
      "source": [
        "# Course: ITI 1120F\n",
        "# Assignment #1\n",
        "# MacGillivray, Alexander\n",
        "# Student number: 300240446\n",
        "\n",
        "print(\"hello world!\")\n",
        "print(1+2*3)\n",
        "print((1+2)*3)\n",
        "print(2**10)\n",
        "print(11/2)\n",
        "print(1+2+3+4+5)\n",
        "print((25+12+40+1)/4)"
      ]
    }
  ]
}