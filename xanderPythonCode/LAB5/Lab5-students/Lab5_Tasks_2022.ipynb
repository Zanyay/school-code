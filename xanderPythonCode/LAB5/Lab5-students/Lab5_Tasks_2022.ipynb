{
  "nbformat": 4,
  "nbformat_minor": 0,
  "metadata": {
    "colab": {
      "name": "Task.ipynb",
      "provenance": []
    },
    "kernelspec": {
      "name": "python3",
      "display_name": "Python 3"
    }
  },
  "cells": [
    {
      "cell_type": "markdown",
      "metadata": {
        "id": "GrAKu-PaMM4R"
      },
      "source": [
        "# Course: ITI1120 - F Winter 2021\r\n",
        " \r\n",
        "# LAB 5 - Tasks"
      ]
    },
    {
      "cell_type": "markdown",
      "metadata": {
        "id": "Ya53GOhCuXt5"
      },
      "source": [
        "# Task 0"
      ]
    },
    {
      "cell_type": "code",
      "metadata": {
        "id": "CYZKXQlIuVjT"
      },
      "source": [
        "s1=\"this is a string\"\n",
        "s2=\"this is a string\"\n",
        "s3=s1\n",
        "print(s1==s3)\n",
        "s1=\"aha\"\n",
        "print(s3==s1)\n",
        "print(s3==s2)"
      ],
      "execution_count": null,
      "outputs": []
    },
    {
      "cell_type": "markdown",
      "metadata": {
        "id": "CSd4z2C3us-Q"
      },
      "source": [
        "# Task 1"
      ]
    },
    {
      "cell_type": "code",
      "metadata": {
        "id": "DNzftc8-utHu"
      },
      "source": [
        "s1=\"this is a string\"\n",
        "print(\"A variable s1, referes to an object of what type?\")\n",
        "print( type(s1) )\n",
        "\n",
        "s4=[\"this is a string\"]\n",
        "print(\"A variable s4, referes to an object of what type?\")\n",
        "print( type(s4) )\n",
        "\n",
        "print(\"A variable s4[0], referes to an object of what type?\")\n",
        "print( type(s4[0]) )"
      ],
      "execution_count": null,
      "outputs": []
    },
    {
      "cell_type": "markdown",
      "metadata": {
        "id": "t3yaxQTBuyfu"
      },
      "source": [
        "# Task 2"
      ]
    },
    {
      "cell_type": "code",
      "metadata": {
        "id": "fv38CUPvu1xo"
      },
      "source": [
        "s5=[2, 4, \"oaxaca\", True]\n",
        "s6=[2, 4, \"oaxaca\", True]\n",
        "print(s5==s6)\n",
        "print(s5 is s6)\n",
        "s7=s6\n",
        "print(s6 is s7)\n",
        "s7[3]=False\n",
        "print(s5)\n",
        "print(s6)\n",
        "print(s7)"
      ],
      "execution_count": null,
      "outputs": []
    },
    {
      "cell_type": "markdown",
      "metadata": {
        "id": "ov16dvZmUtYc"
      },
      "source": [
        "# Task 3"
      ]
    },
    {
      "cell_type": "code",
      "metadata": {
        "id": "m9CFP2PUUvBA"
      },
      "source": [
        "# example 1\n",
        "def sum_odd(n):\n",
        "     ''' (num)->num\n",
        "     Returns the sum of positive odd numbers smaller than n'''\n",
        "     odd_sum = 0\n",
        "     for num in range(n):\n",
        "          if num % 2 == 1:\n",
        "               odd_sum = odd_sum + num\n",
        "     return odd_sum  \n",
        "\n",
        "result=sum_odd(12)      \n",
        "print(result)\n",
        "\n"
      ],
      "execution_count": null,
      "outputs": []
    },
    {
      "cell_type": "code",
      "metadata": {
        "id": "HP_bVGB2U_tE"
      },
      "source": [
        "# example 2\n",
        "def product_odd(n):\n",
        "     ''' (num)->num\n",
        "     Returns the product of all positive odd numbers smaller than n'''\n",
        "     prod = 1 \n",
        "     for num in range(n):\n",
        "          if num % 2 == 1:\n",
        "               prod = prod * num\n",
        "     return prod  \n",
        "\n",
        "result=product_odd(12)      \n",
        "print(result)\n"
      ],
      "execution_count": null,
      "outputs": []
    },
    {
      "cell_type": "code",
      "metadata": {
        "id": "lReF-OO0VAww"
      },
      "source": [
        "# example 3\n",
        "def sum_list_v1(a):\n",
        "   ''' (list)->num\n",
        "     Returns the sum of the odd elements in a given list a'''\n",
        "   list_sum = 0\n",
        "   for item in a:\n",
        "      if item % 2 == 1:\n",
        "         list_sum = list_sum + item\n",
        "   return list_sum\n",
        "\n",
        "lst=[10,21,3]\n",
        "result=sum_list_v1(lst)\n",
        "print(result)\n"
      ],
      "execution_count": null,
      "outputs": []
    },
    {
      "cell_type": "code",
      "metadata": {
        "id": "RfCqbTCWVCRz"
      },
      "source": [
        "#example 4\n",
        "def sum_list_v2(a):\n",
        "    ''' (list)->num\n",
        "     Returns the sum of the odd elements in a given list a'''\n",
        "    list_sum = 0\n",
        "    for i in range(len(a)):\n",
        "       if a[i] % 2 == 1:\n",
        "          list_sum = list_sum + a[i]\n",
        "    return list_sum\n",
        "\n",
        "lst=[10,21,3]\n",
        "result=sum_list_v2(lst)\n",
        "print(result)"
      ],
      "execution_count": null,
      "outputs": []
    },
    {
      "cell_type": "markdown",
      "metadata": {
        "id": "beJ3op-xWXKK"
      },
      "source": [
        "# Task 4"
      ]
    },
    {
      "cell_type": "code",
      "metadata": {
        "id": "FHPOjRi2WYJM"
      },
      "source": [
        "# how many stars does the following program print?\n",
        "\n",
        "for i in range(-2,14):\n",
        "     print(\"*\")\n",
        "     print(\"**\")\n",
        "\n",
        "# ---> !Important! Think about how to count stars by using Python !Important! <---\n"
      ],
      "execution_count": null,
      "outputs": []
    },
    {
      "cell_type": "markdown",
      "metadata": {
        "id": "9yxE1JtWW97Z"
      },
      "source": [
        "# Task 5"
      ]
    },
    {
      "cell_type": "code",
      "metadata": {
        "id": "9MY4u7HSWZ1O"
      },
      "source": [
        "#what does this print?\n",
        "\n",
        "fruits = [\"apple\", \"orange\", \"banana\", \"cherry\"]\n",
        "\n",
        "for afruit in fruits:     # by item\n",
        "    print(afruit, end=\" \")"
      ],
      "execution_count": null,
      "outputs": []
    },
    {
      "cell_type": "code",
      "metadata": {
        "id": "cMrzxH4EXLFV"
      },
      "source": [
        "#what does this print?\n",
        "\n",
        "fruits = [\"apple\", \"orange\", \"banana\", \"cherry\"]\n",
        "\n",
        "for position in range(len(fruits)):     # by index\n",
        "    print(fruits[position], end=\" \")\n",
        "\n"
      ],
      "execution_count": null,
      "outputs": []
    },
    {
      "cell_type": "code",
      "metadata": {
        "id": "lklGK3XPXAa_"
      },
      "source": [
        "#what does this print?\n",
        "\n",
        "for name in [\"Joe\", \"Amy\", \"Brad\", \"Angelina\", \"Zuki\", \"Thandi\", \"Paris\"]:\n",
        "    print(\"Hi \", name, \"  Please come to my party on Saturday!\")"
      ],
      "execution_count": null,
      "outputs": []
    },
    {
      "cell_type": "markdown",
      "metadata": {
        "id": "BCftBnumXPKo"
      },
      "source": [
        "# Task 6"
      ]
    },
    {
      "cell_type": "code",
      "metadata": {
        "id": "iZJENpuyXQRP"
      },
      "source": [
        "# what does this print?\n",
        "\n",
        "for i in range(5,0,-1):\n",
        "     num=1\n",
        "     for j in range (1,i+1):\n",
        "          print(num, end=\"| \")\n",
        "          num=num*2\n",
        "     print()\n"
      ],
      "execution_count": null,
      "outputs": []
    }
  ]
}