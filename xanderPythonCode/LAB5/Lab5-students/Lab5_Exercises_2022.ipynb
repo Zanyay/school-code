{
  "nbformat": 4,
  "nbformat_minor": 0,
  "metadata": {
    "colab": {
      "name": "Exercises.ipynb",
      "provenance": [],
      "collapsed_sections": []
    },
    "kernelspec": {
      "name": "python3",
      "display_name": "Python 3"
    }
  },
  "cells": [
    {
      "cell_type": "markdown",
      "metadata": {
        "id": "GrAKu-PaMM4R"
      },
      "source": [
        "# Course: ITI1120 - F Winter 2021\r\n",
        " \r\n",
        "# LAB 5 - Exercises"
      ]
    },
    {
      "cell_type": "markdown",
      "metadata": {
        "id": "x7F-5e9JVWSt"
      },
      "source": [
        "# Exercise 0"
      ]
    },
    {
      "cell_type": "markdown",
      "metadata": {
        "id": "daEFCXwWVayI"
      },
      "source": [
        "Write a function called ***ah(l,x,y)*** that given a list l and two integers x and y such that x <= y. ***ah(l,x,y)*** returns two numbers. The first is the number of elements of l that are between x and y (including x and y). The second number is the minimum element of l that is between x and y (including x and y)."
      ]
    },
    {
      "cell_type": "code",
      "metadata": {
        "id": "hpYRwWNIVebB"
      },
      "source": [
        "def ah(l,x,y):\n",
        "     '''(list, int,int)->(int,number/+inf)\n",
        "     Returns two numbers such that ...\n",
        "     Precondition: x <= y\n",
        "                   and list l contains numbers\n",
        "     '''\n",
        "     \n"
      ],
      "execution_count": null,
      "outputs": []
    },
    {
      "cell_type": "code",
      "metadata": {
        "id": "WLX3v7eUV7JM",
        "colab": {
          "base_uri": "https://localhost:8080/",
          "height": 34
        },
        "outputId": "81c54526-b3e0-4248-8b2e-61cc5d9c4606"
      },
      "source": [
        "# Testcase for ah\n",
        "t=[5, 1, -2.5, 10, 13, 8]\n",
        "print(ah(t, 2, 11)) # excepting (3, 5)"
      ],
      "execution_count": null,
      "outputs": [
        {
          "output_type": "stream",
          "text": [
            "(3, 5)\n"
          ],
          "name": "stdout"
        }
      ]
    },
    {
      "cell_type": "markdown",
      "metadata": {
        "id": "yzbq8r9SXbY-"
      },
      "source": [
        "# Exercise 1"
      ]
    },
    {
      "cell_type": "code",
      "metadata": {
        "id": "FwipPOwFXwTm"
      },
      "source": [
        "def divisors(n):\n",
        "     '''(int)->None\n",
        "     prints all the divisors of n\n",
        "     Precondition: n is a positive integer'''\n",
        "     "
      ],
      "execution_count": null,
      "outputs": []
    },
    {
      "cell_type": "code",
      "metadata": {
        "id": "7scf4oH-WM8E"
      },
      "source": [
        "def is_perfect(n):\n",
        "     ''' (number)->bool\n",
        "     Returns True if the given positive integer n is perfect\n",
        "     Precondition: n>=1\n",
        "     '''\n",
        "     "
      ],
      "execution_count": null,
      "outputs": []
    },
    {
      "cell_type": "code",
      "metadata": {
        "id": "U7y9M1JFZABz",
        "colab": {
          "base_uri": "https://localhost:8080/",
          "height": 85
        },
        "outputId": "b5825ff7-6c09-44ce-c84e-ef56a7e250ad"
      },
      "source": [
        "# testcases for is_perfect\n",
        "print(is_perfect(3)) # excepting False\n",
        "print(is_perfect(6)) # excepting True\n",
        "print(is_perfect(8128)) # excepting True \n",
        "print(is_perfect(9734)) # excepting False\n"
      ],
      "execution_count": null,
      "outputs": [
        {
          "output_type": "stream",
          "text": [
            "False\n",
            "True\n",
            "True\n",
            "False\n"
          ],
          "name": "stdout"
        }
      ]
    },
    {
      "cell_type": "markdown",
      "metadata": {
        "id": "dW9alkelcCTQ"
      },
      "source": [
        "# Exercise 2"
      ]
    },
    {
      "cell_type": "code",
      "metadata": {
        "id": "Ii9R9bQrb8Vn"
      },
      "source": [
        "def arithmetic(l):\n",
        "     '''(list)->bool\n",
        "       Returns True if list l contains an arithmetic sequence,\n",
        "       False otherwise\n",
        "       Precondition: Elements of l are numbers'''\n",
        "\n",
        "     "
      ],
      "execution_count": null,
      "outputs": []
    },
    {
      "cell_type": "code",
      "metadata": {
        "id": "3WQ5G1oJcHT1",
        "colab": {
          "base_uri": "https://localhost:8080/",
          "height": 68
        },
        "outputId": "e84663bf-357f-4c7d-d657-95b361877670"
      },
      "source": [
        "print(arithmetic( [-5, -1, 3, 7, 11] )) # excepting True\n",
        "print(arithmetic( [-5, -1, 3, 7, 11] )) # excepting True\n",
        "print(arithmetic( [5, 10, 15, 24, 29] )) # excepting False\n"
      ],
      "execution_count": null,
      "outputs": [
        {
          "output_type": "stream",
          "text": [
            "True\n",
            "True\n",
            "False\n"
          ],
          "name": "stdout"
        }
      ]
    },
    {
      "cell_type": "markdown",
      "metadata": {
        "id": "DV3zZ8dpdOb0"
      },
      "source": [
        "# Exercise 3"
      ]
    },
    {
      "cell_type": "code",
      "metadata": {
        "id": "0-DailstcYMM"
      },
      "source": [
        "# Exercise 3"
      ],
      "execution_count": null,
      "outputs": []
    },
    {
      "cell_type": "code",
      "metadata": {
        "id": "a8NbuRsBcpfb"
      },
      "source": [
        "def is_sorted(l):\n",
        "     '''(list)->bool\n",
        "       Returns True if list l is sorted from smallest to largest number,\n",
        "       False otherwise\n",
        "       Precondition: Elements of l are numbers'''\n",
        "\n",
        "    "
      ],
      "execution_count": null,
      "outputs": []
    },
    {
      "cell_type": "code",
      "metadata": {
        "id": "n5oYz1-Ycsfk",
        "colab": {
          "base_uri": "https://localhost:8080/",
          "height": 85
        },
        "outputId": "0bdd9786-6f1d-4a72-cd23-b0e77dd2fbc0"
      },
      "source": [
        "print(is_sorted([1, 1, 1, 7, 7]))      # Excepting True\n",
        "print(is_sorted([-10, -1, 3, 7, 100])) # Excepting True\n",
        "print(is_sorted([0, 3, 1, 7, 11]))     # Excepting False\n",
        "print(is_sorted([5, -10, 15, 24, 29])) # Excepting False\n"
      ],
      "execution_count": null,
      "outputs": [
        {
          "output_type": "stream",
          "text": [
            "True\n",
            "True\n",
            "False\n",
            "False\n"
          ],
          "name": "stdout"
        }
      ]
    }
  ]
}